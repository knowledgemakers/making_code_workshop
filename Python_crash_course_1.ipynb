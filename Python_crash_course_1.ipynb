{
  "nbformat": 4,
  "nbformat_minor": 0,
  "metadata": {
    "colab": {
      "name": "Python crash course-1.ipynb",
      "version": "0.3.2",
      "provenance": []
    },
    "kernelspec": {
      "name": "python3",
      "display_name": "Python 3"
    }
  },
  "cells": [
    {
      "metadata": {
        "id": "uJupmPMIMs9U",
        "colab_type": "text"
      },
      "cell_type": "markdown",
      "source": [
        "### How to get started"
      ]
    },
    {
      "metadata": {
        "id": "1RbhgtSTMs9U",
        "colab_type": "text"
      },
      "cell_type": "markdown",
      "source": [
        "The goal of this technical guide is to present in a simple way text mining techniques to non-technical professionals. Although the guide was created having in mind the research support administrative staff, it can be used by other non-technical people as well. \n",
        "\n",
        "\n",
        "The guide is divided into three sections: \n",
        "1. **How to get started:** The page you have just landed is an introduction to this practical guide. We try to explain some basic tools that you can use to complete the examples in the following two sections and explain some of their meaning. \n",
        "2. **Text and Data Mining fundamentals:** This section uses a full text research output extracted from [CORE](https://core.ac.uk/) and demonstrates some basic text mining practices, such as sentence segmentation, tokenization, parts of speech tagging, named entity recognition and stemming. We also give some exercises to you to practice. \n",
        "3. **Examples using the CORE API:** This is a more advanced section. Some may feel that it requires some technical skills, while others will find it challenging and would want to try the final practical exercise. The section uses the [CORE API](https://core.ac.uk/services#api) and demonstrates how to create word clouds from the University of Cambridge publications deposited in the institutional repository, Apollo. "
      ]
    },
    {
      "metadata": {
        "id": "v-8T5gIoMs9V",
        "colab_type": "text"
      },
      "cell_type": "markdown",
      "source": [
        "#### Why Python Notebooks\n",
        "A [Python Notebook](https://en.wikipedia.org/wiki/IPython) is a cool and easy way to combine in the same page text and code, and easily create a narrative that requires the combination of text and coding. Our examples require a combination of text and code and that is the main reason that we used Python Notebooks when creating this guide.\n",
        "\n",
        "Each Python Notebook has two sections: The one with simple text, just like this one you are reading now, and another section for code...\n"
      ]
    },
    {
      "metadata": {
        "id": "3HLBK8TKMs9W",
        "colab_type": "text"
      },
      "cell_type": "markdown",
      "source": [
        "`code will have a different font than text`"
      ]
    },
    {
      "metadata": {
        "id": "s97Ji4I2Ms9X",
        "colab_type": "text"
      },
      "cell_type": "markdown",
      "source": [
        "#### How to read the following pages\n",
        "If you were reading any other page, a blog post, a MS word document, a webpage, you would probably use the cursor to scroll down and up the page. Python Notebooks are a bit different. They have an order and their capabilities are better highlighted when the \"Play\" button is used. The \"Play\" button is located on the left hand side of the code field and you should click on it each time you want to move to the next section. The \"Play\" button not only helps you move from one section to another, but it also distinguishes the executable code from the plain text and executes it. If this is your first experience with Python Notebooks the touch and feel may look odd to you, but you will soon get used to it.\n",
        "\n",
        "The next block is a cell with code in it. Whenever you meet a similar block you need to click on the \"Play\" button to run the code. As you go over this guide, you will see many blocks with code; you must run them by pushing the \"Play\" button and you must do that in the order that the code blocks appear. If you fail to run a code block, there are high chances that the next block code will not run properly and you will receive an error message.\n",
        "\n",
        "To run the next block put your curson on top of the double square brackets [ ] and a \"Play\" arrow will appear; you must click on it. "
      ]
    },
    {
      "metadata": {
        "id": "VBgDphyUJDTT",
        "colab_type": "code",
        "colab": {}
      },
      "cell_type": "code",
      "source": [
        "print (\"Hello TDM!\")"
      ],
      "execution_count": 0,
      "outputs": []
    },
    {
      "metadata": {
        "id": "vqvWSdhSQQFy",
        "colab_type": "text"
      },
      "cell_type": "markdown",
      "source": [
        ""
      ]
    },
    {
      "metadata": {
        "id": "jqiD-jt7QPMo",
        "colab_type": "text"
      },
      "cell_type": "markdown",
      "source": [
        ""
      ]
    },
    {
      "metadata": {
        "id": "MHifik5yRNtO",
        "colab_type": "text"
      },
      "cell_type": "markdown",
      "source": [
        "If you are seeing the message \"`Hello TDM!`\" then the code has run properly! "
      ]
    },
    {
      "metadata": {
        "id": "N5JXGR4HMs9X",
        "colab_type": "text"
      },
      "cell_type": "markdown",
      "source": [
        "#### Adding new lines and code\n",
        "\n",
        " - **Add a new line of code:** Adding a new line of code is easy. Click on \"`[+] CODE`\" located on the top level navigation bar. \n",
        " - **Add a new line of text**: To add a new line with text click on the \"`[+] TEXT`\".\n",
        "\n",
        "[Python](https://en.wikipedia.org/wiki/Python_%28programming_language%29) is a sophisticated and powerful programming language and you are not expected to know how to use it. The purpose of this demonstration is not to teach you Python either, so you will meet code that you will probably not understand. \n"
      ]
    },
    {
      "metadata": {
        "id": "x0-kOQVSgLqY",
        "colab_type": "code",
        "colab": {}
      },
      "cell_type": "code",
      "source": [
        "print (\"Hello Pythonistas!\")"
      ],
      "execution_count": 0,
      "outputs": []
    },
    {
      "metadata": {
        "id": "eCljdQM3Ms9Y",
        "colab_type": "text"
      },
      "cell_type": "markdown",
      "source": [
        "**Note:** This guide was created by non-technical people with the aim to put together a guide for a non-technical audience. We cannot promise that you will understand every piece of the code (we don't either) and that you will not get error messages (we got plenty of them as well!). We have learned a lot while creating it and if we can do it, then so do you. We have to admit thought that sometimes it helps being able to contact a technical person to ask questions."
      ]
    }
  ]
}