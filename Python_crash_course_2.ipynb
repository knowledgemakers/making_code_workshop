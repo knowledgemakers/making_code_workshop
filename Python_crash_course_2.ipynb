{
  "nbformat": 4,
  "nbformat_minor": 0,
  "metadata": {
    "colab": {
      "name": "Python crash course 2.ipynb",
      "version": "0.3.2",
      "provenance": []
    },
    "kernelspec": {
      "name": "python3",
      "display_name": "Python 3"
    }
  },
  "cells": [
    {
      "metadata": {
        "id": "xmpZB3cTARLn",
        "colab_type": "text"
      },
      "cell_type": "markdown",
      "source": [
        "#Variables\n",
        "\n",
        "## Can be numbers"
      ]
    },
    {
      "metadata": {
        "id": "WykqVL4y9trL",
        "colab_type": "code",
        "colab": {}
      },
      "cell_type": "code",
      "source": [
        "grams_of_sugars_per_spoon = 3.8\n",
        "spoons = 2"
      ],
      "execution_count": 0,
      "outputs": []
    },
    {
      "metadata": {
        "id": "-F_B98yrAkTw",
        "colab_type": "text"
      },
      "cell_type": "markdown",
      "source": [
        "## Can be strings"
      ]
    },
    {
      "metadata": {
        "id": "cj5SIkGjAnQB",
        "colab_type": "code",
        "colab": {}
      },
      "cell_type": "code",
      "source": [
        "name = \"John\"\n",
        "surname=\"Smith\""
      ],
      "execution_count": 0,
      "outputs": []
    },
    {
      "metadata": {
        "id": "jVXY4zkhA0tt",
        "colab_type": "text"
      },
      "cell_type": "markdown",
      "source": [
        "### Numbers can be added (and most of the other maths)"
      ]
    },
    {
      "metadata": {
        "id": "V6vtc-6SA_cO",
        "colab_type": "code",
        "colab": {}
      },
      "cell_type": "code",
      "source": [
        "spoons_of_sugars = grams_of_sugars_per_spoon /spoons\n",
        "spoons_of_sugars"
      ],
      "execution_count": 0,
      "outputs": []
    },
    {
      "metadata": {
        "id": "A19puI4IBr0Y",
        "colab_type": "text"
      },
      "cell_type": "markdown",
      "source": [
        "### Strings can be added too (concatenate)"
      ]
    },
    {
      "metadata": {
        "id": "8_FeSVtGBq-Z",
        "colab_type": "code",
        "colab": {}
      },
      "cell_type": "code",
      "source": [
        "full_name = name + \" \" + surname\n",
        "full_name"
      ],
      "execution_count": 0,
      "outputs": []
    },
    {
      "metadata": {
        "id": "1jvBq_WR-h9Y",
        "colab_type": "text"
      },
      "cell_type": "markdown",
      "source": [
        "# Functions DO THINGS\n",
        "\n"
      ]
    },
    {
      "metadata": {
        "id": "8lDlonFDCEhT",
        "colab_type": "code",
        "colab": {}
      },
      "cell_type": "code",
      "source": [
        "def brew_black_coffee(full_name, spoons_of_sugars):\n",
        "  print(\"Brewing black coffee for \" + full_name + \" with \" + str(spoons_of_sugars) + \" spoons of sugars\")\n",
        "  #TODO brew coffee\n",
        "def brew_latte(full_name, spoons_of_sugars):\n",
        "  print(\"Brewing latte for \" + full_name + \" with \" + str(spoons_of_sugars) + \" spoons of sugars\")\n",
        "  #TODO brew coffee\n",
        "\n",
        "  "
      ],
      "execution_count": 0,
      "outputs": []
    },
    {
      "metadata": {
        "id": "CY8Hlp8pCtJI",
        "colab_type": "text"
      },
      "cell_type": "markdown",
      "source": [
        "You can call a function like this"
      ]
    },
    {
      "metadata": {
        "id": "-YstFRPsCzY5",
        "colab_type": "code",
        "colab": {}
      },
      "cell_type": "code",
      "source": [
        "brew_coffee(full_name, spoons_of_sugars)"
      ],
      "execution_count": 0,
      "outputs": []
    },
    {
      "metadata": {
        "id": "XBKVeDKLDCn7",
        "colab_type": "text"
      },
      "cell_type": "markdown",
      "source": [
        "Some functions can be called directly on the objects (they are called methods)"
      ]
    },
    {
      "metadata": {
        "id": "tmPln-ZHDCND",
        "colab_type": "code",
        "colab": {}
      },
      "cell_type": "code",
      "source": [
        "new_name = full_name.replace(\"Smith\", \"Black\")\n",
        "new_name"
      ],
      "execution_count": 0,
      "outputs": []
    },
    {
      "metadata": {
        "id": "_KqlHiAzFYdi",
        "colab_type": "text"
      },
      "cell_type": "markdown",
      "source": [
        "If you put more than one variable together you make a list\n"
      ]
    },
    {
      "metadata": {
        "id": "-pLTMxlPFYLC",
        "colab_type": "code",
        "colab": {}
      },
      "cell_type": "code",
      "source": [
        "coffee_types = [\"latte\", \"black\", \"cappuccino\"]\n",
        "coffee_types"
      ],
      "execution_count": 0,
      "outputs": []
    },
    {
      "metadata": {
        "id": "k88OB6qnF0S6",
        "colab_type": "text"
      },
      "cell_type": "markdown",
      "source": [
        "You can use the \"+\" to add elements to a list too!"
      ]
    },
    {
      "metadata": {
        "id": "CbT8QiDlF4ve",
        "colab_type": "code",
        "colab": {}
      },
      "cell_type": "code",
      "source": [
        "coffee_types = coffee_types + [\"mocha\"]\n",
        "coffee_types"
      ],
      "execution_count": 0,
      "outputs": []
    },
    {
      "metadata": {
        "id": "hvdb9-WyGFz1",
        "colab_type": "text"
      },
      "cell_type": "markdown",
      "source": [
        "### You can also have conditional statement\n",
        "To test a condition you can use \n",
        "\n",
        "\n",
        "*   \"==\" to exact match\n",
        "*   \">\", \"<\" for greater than, smaller than\n",
        "*   \">=\", \"<=\" for greater than equal, smaller than equal\n",
        "\n",
        "You can also combine the conditions using \"and\", \"or\"\n",
        "\n",
        "\n",
        "*   \"and\" all of the conditions must verify\n",
        "*   \"or\" one of the condition must verify\n",
        "\n",
        "### You can use conditional statements in an IF..ELIF...ELSE\n",
        "\n",
        "\n",
        "\n",
        "\n"
      ]
    },
    {
      "metadata": {
        "id": "ehn-tCCVGMa3",
        "colab_type": "code",
        "colab": {}
      },
      "cell_type": "code",
      "source": [
        "def brew_coffee(coffee_type, full_name, spoons_of_sugars):\n",
        "  if coffee_type==\"latte\":\n",
        "    brew_latte(full_name, spoons_of_sugars)\n",
        "  elif coffee_type==\"black\":\n",
        "    brew_black_coffee(full_name, spoons_of_sugars)\n",
        "  else:\n",
        "    print(\"I don't know how to do this yet\")\n",
        "    \n",
        "brew_coffee(\"black\", full_name, spoons_of_sugars)"
      ],
      "execution_count": 0,
      "outputs": []
    },
    {
      "metadata": {
        "id": "JEH2fKh8Jqv-",
        "colab_type": "text"
      },
      "cell_type": "markdown",
      "source": [
        "### ...or in a loop"
      ]
    },
    {
      "metadata": {
        "id": "JwHUwA81JwO6",
        "colab_type": "code",
        "colab": {}
      },
      "cell_type": "code",
      "source": [
        "for coffee_type in coffee_types:\n",
        "  brew_coffee(coffee_type, full_name, spoons_of_sugars )"
      ],
      "execution_count": 0,
      "outputs": []
    },
    {
      "metadata": {
        "id": "HXrNbvweKLNE",
        "colab_type": "text"
      },
      "cell_type": "markdown",
      "source": [
        "### Libraries\n",
        "Developers already implemented plenty of libraries to use to install libraries on your machine run\n",
        "\n",
        "\n",
        "``` bash\n",
        "pip install <library name>\n",
        "```\n",
        "\n",
        "Libraries can do magic! \n",
        "Example, extract all the coffee types from starbucks\n",
        "\n"
      ]
    },
    {
      "metadata": {
        "id": "_90lyHXpKIBU",
        "colab_type": "code",
        "colab": {}
      },
      "cell_type": "code",
      "source": [
        "import requests\n",
        "from bs4 import BeautifulSoup\n",
        "response = requests.get(\"https://www.starbucks.com/menu/catalog/product?drink=espresso#view_control=product\")\n",
        "html = response.text\n",
        "parsed_html = BeautifulSoup(html)\n",
        "drinks_container = parsed_html.body.find(\"div\", {\"class\": \"drinks\"})\n",
        "drinks = drinks_container.find_all(\"strong\")\n",
        "for drink in drinks:\n",
        "  print(drink.text)"
      ],
      "execution_count": 0,
      "outputs": []
    }
  ]
}